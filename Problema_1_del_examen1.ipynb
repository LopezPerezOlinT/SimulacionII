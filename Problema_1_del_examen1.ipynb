{
  "cells": [
    {
      "cell_type": "markdown",
      "id": "c21e5530",
      "metadata": {
        "id": "c21e5530"
      },
      "source": [
        "# **Problema 1**\n"
      ]
    },
    {
      "cell_type": "markdown",
      "source": [
        "1.- Dos personas han quedado citas en determinado lugar. ambas tienen la misma probabilidad de llegar al lugar de la cita en el intervalo de tiempo [0,30].<br>\n",
        "Determínese la probabilidad de que el tiempo que una persona espere a la otra sea como máximo 10."
      ],
      "metadata": {
        "id": "yRK-pAXb0Gc8"
      },
      "id": "yRK-pAXb0Gc8"
    },
    {
      "cell_type": "markdown",
      "source": [
        "## **Solución**"
      ],
      "metadata": {
        "id": "FZkMJP_H1E6i"
      },
      "id": "FZkMJP_H1E6i"
    },
    {
      "cell_type": "markdown",
      "source": [
        "### 1. Identifique las variables \n",
        "\n",
        "Tenemos dos serían $t_1$ y  $t_2$."
      ],
      "metadata": {
        "id": "bJ-Mz2vZvTRy"
      },
      "id": "bJ-Mz2vZvTRy"
    },
    {
      "cell_type": "markdown",
      "id": "ae8735e5",
      "metadata": {
        "id": "ae8735e5"
      },
      "source": [
        "### 2 y 3. Determine la distribución de probabilidad y modele las variables aleatorias \n",
        "\n",
        "$t_1 \\sim U(0, 30)$ y  $t_2\\sim U(0, 30)$."
      ]
    },
    {
      "cell_type": "markdown",
      "id": "b1b57a13",
      "metadata": {
        "id": "b1b57a13"
      },
      "source": [
        "### 4. Defina el modelo del sistema y los objetivos de la simulación \n",
        "\n",
        "Sin perdida de generalidad la diferencia $\\left | t_1 -t_2\\right |\\leq10$ modela adecuadamente el sistema.\n",
        "\n",
        "Si $\\left | t_1 -t_2\\right |\\leq10$ es el tiempo de espera sea menor o incluso igual a 10 de cualquiera de ellos, si es $\\left | t_1 -t_2\\right |>10$significa que alguien llego muy tarde, más de 10.\n",
        "\n",
        "Objetivo: determinar la frecuencia con que esto ocurre, lo cual nos da una estimación de la probabilidad de que se encuentren en los 10 minutos de tolerancia.\n",
        "\n",
        "Una forma de implementarlo es mediante el siguiente código."
      ]
    },
    {
      "cell_type": "code",
      "source": [
        "import numpy as np\n",
        "import random\n",
        "import matplotlib.pyplot as plt\n",
        "from scipy.stats import norm"
      ],
      "metadata": {
        "id": "hPkKGn6h2NXr"
      },
      "id": "hPkKGn6h2NXr",
      "execution_count": 239,
      "outputs": []
    },
    {
      "cell_type": "code",
      "source": [
        "# Función para calcular la diferencia entre t1 y t2\n",
        "def diferencia():\n",
        "    # Generar dos variables aleatorias uniformes en el intervalo [0, 30]\n",
        "    t1 = np.random.uniform(0, 30)\n",
        "    t2 = np.random.uniform(0, 30)\n",
        "    \n",
        "    # Calcular la diferencia entre t1 y t2\n",
        "    diferencia = t1 - t2\n",
        "    \n",
        "    return diferencia\n"
      ],
      "metadata": {
        "id": "F9InxWPt36MD"
      },
      "id": "F9InxWPt36MD",
      "execution_count": 240,
      "outputs": []
    },
    {
      "cell_type": "code",
      "source": [
        "abs(diferencia())"
      ],
      "metadata": {
        "colab": {
          "base_uri": "https://localhost:8080/"
        },
        "id": "WoXD9rTR57bB",
        "outputId": "42b3887b-d601-48ff-82aa-be8de3a4be3f"
      },
      "id": "WoXD9rTR57bB",
      "execution_count": 241,
      "outputs": [
        {
          "output_type": "execute_result",
          "data": {
            "text/plain": [
              "3.525199450319585"
            ]
          },
          "metadata": {},
          "execution_count": 241
        }
      ]
    },
    {
      "cell_type": "markdown",
      "id": "d6186dac",
      "metadata": {
        "id": "d6186dac"
      },
      "source": [
        "### 5. Diseñe el experimento\n",
        "\n",
        "Para estimar la probabilidad de que la diferencia sea menor incluso igual a 10, ejecutamos $n$ veces la función anterior y calculamos de manera acumulativa\n",
        "la probabilidad de la diferencia de tiempos."
      ]
    },
    {
      "cell_type": "code",
      "source": [
        "# Función para estimar la probabilidad de que la diferencia sea menor o igual a 10\n",
        "def prob_dife(n):\n",
        "    prob = []  # Lista para almacenar los valores de probabilidad estimados\n",
        "    dife = 0   # Variable para contar las veces que la diferencia es menor o igual a 10\n",
        "    \n",
        "    for i in range(n):\n",
        "        dif = diferencia()  # Obtener la diferencia entre t1 y t2\n",
        "        if abs(dif) <= 10:\n",
        "            dife += 1  # Incrementar el contador si la diferencia es menor o igual a 10\n",
        "        \n",
        "        prob.append(dife / (i + 1))  # Calcular la probabilidad y añadirla a la lista\n",
        "    \n",
        "    return prob\n"
      ],
      "metadata": {
        "id": "U5_1ehIb2YUV"
      },
      "id": "U5_1ehIb2YUV",
      "execution_count": 242,
      "outputs": []
    },
    {
      "cell_type": "code",
      "source": [
        "# Realizar la simulación con  iteraciones\n",
        "X = prob_dife(1000)"
      ],
      "metadata": {
        "id": "m6pWyeSi75Vc"
      },
      "id": "m6pWyeSi75Vc",
      "execution_count": 243,
      "outputs": []
    },
    {
      "cell_type": "code",
      "source": [
        "# Graficar los valores de probabilidad\n",
        "plt.plot(X, color='red')  # Cambiar el color de la línea a rojo\n",
        "plt.xlabel('Iteraciones')\n",
        "plt.ylabel('Probabilidad')\n",
        "plt.title('Convergencia de la probabilidad estimada')\n",
        "plt.show()\n"
      ],
      "metadata": {
        "colab": {
          "base_uri": "https://localhost:8080/",
          "height": 472
        },
        "id": "pd_2Y94N8VCS",
        "outputId": "ca96699c-c953-4d01-9345-e6a760bee56e"
      },
      "id": "pd_2Y94N8VCS",
      "execution_count": 244,
      "outputs": [
        {
          "output_type": "display_data",
          "data": {
            "text/plain": [
              "<Figure size 640x480 with 1 Axes>"
            ],
            "image/png": "[encoded data removed]"
          },
          "metadata": {}
        }
      ]
    },
    {
      "cell_type": "code",
      "source": [
        "print(np.mean(X), np.std(X))"
      ],
      "metadata": {
        "colab": {
          "base_uri": "https://localhost:8080/"
        },
        "id": "ZXJKfMft_dZn",
        "outputId": "6aba4489-abf4-45d7-b597-14dbfda15412"
      },
      "id": "ZXJKfMft_dZn",
      "execution_count": 245,
      "outputs": [
        {
          "output_type": "stream",
          "name": "stdout",
          "text": [
            "0.5699444324925396 0.04415560618930137\n"
          ]
        }
      ]
    },
    {
      "cell_type": "markdown",
      "id": "34727279",
      "metadata": {
        "id": "34727279"
      },
      "source": [
        "### 6. Repita el experimento $n$ veces \n",
        "\n",
        "Una forma de hacerlo es mediante el siguiente codigo."
      ]
    },
    {
      "cell_type": "code",
      "source": [
        "def modelo(n):\n",
        "    lista=[]\n",
        "    for i in range(n):\n",
        "        s = prob_dife(1000)\n",
        "        lista.append(np.mean(s))\n",
        "    return lista"
      ],
      "metadata": {
        "id": "nj6eGUT-_Stj"
      },
      "id": "nj6eGUT-_Stj",
      "execution_count": 246,
      "outputs": []
    },
    {
      "cell_type": "code",
      "source": [
        "Y=modelo(1000)"
      ],
      "metadata": {
        "id": "g41EFIdN_Vo1"
      },
      "id": "g41EFIdN_Vo1",
      "execution_count": 247,
      "outputs": []
    },
    {
      "cell_type": "code",
      "source": [
        "# Configurar el histograma con colores y títulos\n",
        "plt.hist(Y, bins=30, color='steelblue', edgecolor='black')\n",
        "\n",
        "# Agregar títulos y etiquetas de ejes\n",
        "plt.title('Histograma de las medias')\n",
        "plt.xlabel('Media')\n",
        "plt.ylabel('Frecuencia')\n",
        "\n",
        "plt.show()\n",
        "print(np.mean(Y), np.std(Y))"
      ],
      "metadata": {
        "colab": {
          "base_uri": "https://localhost:8080/",
          "height": 489
        },
        "id": "GD659dLODS9Q",
        "outputId": "9f91f5e6-0f49-40f3-d989-3c4802a88954"
      },
      "id": "GD659dLODS9Q",
      "execution_count": 248,
      "outputs": [
        {
          "output_type": "display_data",
          "data": {
            "text/plain": [
              "<Figure size 640x480 with 1 Axes>"
            ],
            "image/png": "[encoded data removed]"
          },
          "metadata": {}
        },
        {
          "output_type": "stream",
          "name": "stdout",
          "text": [
            "0.5561812457463141 0.021751688382762684\n"
          ]
        }
      ]
    },
    {
      "cell_type": "markdown",
      "id": "e5dc2362",
      "metadata": {
        "id": "e5dc2362"
      },
      "source": [
        "### Paso 7. Hallamos el intervalo de confianza.\n",
        "\n",
        "$$\\bar{x}-z_{\\alpha/2} \\cdot \\frac{s}{\\sqrt{n}} < \\mu < \\bar{x}+z_{\\alpha/2}\\cdot \\frac{s}{\\sqrt{n}}$$"
      ]
    },
    {
      "cell_type": "code",
      "execution_count": 249,
      "id": "23d0b48e",
      "metadata": {
        "id": "23d0b48e",
        "outputId": "28dd36aa-edba-419f-95bd-1f92db842bd5",
        "colab": {
          "base_uri": "https://localhost:8080/"
        }
      },
      "outputs": [
        {
          "output_type": "stream",
          "name": "stdout",
          "text": [
            "La Media de Y: 0.5561812457463141\n"
          ]
        }
      ],
      "source": [
        "print(\"La Media de Y:\", np.mean(Y))"
      ]
    },
    {
      "cell_type": "code",
      "execution_count": 250,
      "id": "b29c74e6",
      "metadata": {
        "id": "b29c74e6",
        "outputId": "28da1aa2-f61c-496d-fcb0-0ffce201eeac",
        "colab": {
          "base_uri": "https://localhost:8080/"
        }
      },
      "outputs": [
        {
          "output_type": "stream",
          "name": "stdout",
          "text": [
            "El Intervalo de confianza es: (0.5501519853340925, 0.5622105061585357)\n"
          ]
        }
      ],
      "source": [
        "print(\"El Intervalo de confianza es:\",(np.mean(Y) - 1.96*np.std(Y)/np.sqrt(50), np.mean(Y) + 1.96*np.std(Y)/np.sqrt(50)))"
      ]
    },
    {
      "cell_type": "markdown",
      "id": "112c0954",
      "metadata": {
        "id": "112c0954"
      },
      "source": [
        "### Para determinar el número de simulaciones"
      ]
    },
    {
      "cell_type": "markdown",
      "id": "0a1a63e7",
      "metadata": {
        "id": "0a1a63e7"
      },
      "source": [
        "$$ N > \\Bigg( \\frac{2 \\sigma z_{\\alpha/2}}{\\epsilon} \\Bigg) ^2 $$"
      ]
    },
    {
      "cell_type": "code",
      "execution_count": 251,
      "id": "1478d745",
      "metadata": {
        "id": "1478d745"
      },
      "outputs": [],
      "source": [
        "N = (2*np.std(X)*1.96/0.01)**2"
      ]
    },
    {
      "cell_type": "code",
      "execution_count": 252,
      "id": "fa6ae0ce",
      "metadata": {
        "id": "fa6ae0ce",
        "outputId": "dfb9619a-36e3-4605-899f-52f4b5ec3f7c",
        "colab": {
          "base_uri": "https://localhost:8080/"
        }
      },
      "outputs": [
        {
          "output_type": "stream",
          "name": "stdout",
          "text": [
            "299.6013988240098\n"
          ]
        }
      ],
      "source": [
        "print(N)"
      ]
    },
    {
      "cell_type": "markdown",
      "id": "a6d1c695",
      "metadata": {
        "id": "a6d1c695"
      },
      "source": [
        "### Podemos comparar con la sulución analítica del problema.\n",
        "\n",
        "Para ello usamos la teoría sobre la suma de variables con distribución normal."
      ]
    },
    {
      "cell_type": "markdown",
      "source": [
        "###Solución analitica\n",
        "Sin perdida de generalidad, podemos considerar que la primera persona llega en un momento determinado y luego analizar la probabilidad de que la segunda persona llegue dentro de los siguientes 10 minutos. Para que el tiempo de espera sea como máximo 10 minutos, debemos considerar dos escenarios:"
      ],
      "metadata": {
        "id": "F2hfBjcuvnDs"
      },
      "id": "F2hfBjcuvnDs"
    },
    {
      "cell_type": "markdown",
      "source": [
        "###caso1\n",
        "Si la primera persona llega en un tiempo $t_1$ dentro del intervalo [0, 20], entonces la segunda persona puede llegar en cualquier momento dentro del intervalo [$t_1$, $t_1+10$]. La probabilidad de esto es $\\frac{t_1+10}{30}$, ya que la segunda persona tiene un rango de tiempo más corto para llegar.\n",
        "\n",
        "###caso2\n",
        "Si la primera persona llega en un tiempo $t_1$ dentro del intervalo (20, 30], entonces la segunda persona puede llegar en cualquier momento dentro del intervalo [$t_1$, 30]. La probabilidad de esto es $\\frac{30 - t_1}{30}$, ya que la segunda persona tiene un rango de tiempo más corto para llegar."
      ],
      "metadata": {
        "id": "rYnUOpNvv5ZG"
      },
      "id": "rYnUOpNvv5ZG"
    },
    {
      "cell_type": "markdown",
      "source": [
        "Dado que la primera persona puede llegar en cualquier momento dentro del intervalo [0, 30] con igual probabilidad, debemos calcular la probabilidad promedio considerando ambos escenarios, por probabilidad acumulada se tiene:\n",
        ">$P(espera\\leq10)=\\frac{1}{30}\\:\\int _0^{20}\\:\\left(\\frac{t_1+10}{30}\\right)\\:dt_1\\:+\\:\\frac{1}{30}\\:\\int _{20}^{30}\\:\\left(\\frac{30-t_1}{30}\\right)\\:dt_1$"
      ],
      "metadata": {
        "id": "42P0AY_cwCAn"
      },
      "id": "42P0AY_cwCAn"
    },
    {
      "cell_type": "markdown",
      "source": [
        "Al resolver la integral obtengo el valor de $\\frac{1}{2}$ como la probabilidad de que el tiempo de espera sea 10."
      ],
      "metadata": {
        "id": "PbYrnEW0wQ4g"
      },
      "id": "PbYrnEW0wQ4g"
    },
    {
      "cell_type": "markdown",
      "source": [
        "En la solución analítica del problema, sale que la probabilidad es de 50%, pero en la simulación es de aproximadamente 55%, supongo que es una buena aproximación"
      ],
      "metadata": {
        "id": "U7izoL7-IIeF"
      },
      "id": "U7izoL7-IIeF"
    }
  ],
  "metadata": {
    "kernelspec": {
      "display_name": "Python 3 (ipykernel)",
      "language": "python",
      "name": "python3"
    },
    "language_info": {
      "codemirror_mode": {
        "name": "ipython",
        "version": 3
      },
      "file_extension": ".py",
      "mimetype": "text/x-python",
      "name": "python",
      "nbconvert_exporter": "python",
      "pygments_lexer": "ipython3",
      "version": "3.7.3"
    },
    "colab": {
      "provenance": []
    }
  },
  "nbformat": 4,
  "nbformat_minor": 5
}