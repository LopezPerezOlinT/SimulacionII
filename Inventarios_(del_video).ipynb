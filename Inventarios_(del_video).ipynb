{
  "nbformat": 4,
  "nbformat_minor": 0,
  "metadata": {
    "colab": {
      "provenance": []
    },
    "kernelspec": {
      "name": "python3",
      "display_name": "Python 3"
    },
    "language_info": {
      "name": "python"
    }
  },
  "cells": [
    {
      "cell_type": "code",
      "source": [
        "!pip install simpy                 # Instala el paquete \"simpy\" utilizando pip\n",
        "\n",
        "import simpy                       # Importa la biblioteca simpy para simulaciones de eventos discretos\n",
        "import numpy as np                 # Importa la biblioteca numpy para generación de números aleatorios\n",
        "import matplotlib.pyplot as plt    # Importa la biblioteca matplotlib para graficar\n",
        "\n",
        "# Definición de la función warehouse_run que representa la simulación del almacén\n",
        "def warehouse_run(env, order_cutoff, order_target):\n",
        "  global inventory, balance, num_ordered\n",
        "\n",
        "  inventory = order_target           # Inicializa el inventario con el valor objetivo\n",
        "  balance = 0.0                      # Inicializa el balance en 0.0\n",
        "  num_ordered = 0                    # Inicializa el número de pedidos en 0\n",
        "\n",
        "  while True:\n",
        "    interarrival = generate_interarrival()       # Genera un tiempo de llegada entre pedidos\n",
        "    yield env.timeout(interarrival)              # Espera hasta que llegue el próximo pedido\n",
        "    balance -= inventory*2*interarrival          # Actualiza el balance restando el costo de almacenamiento\n",
        "    demand = generate_demand()                    # Genera la demanda del producto\n",
        "    if demand < inventory:\n",
        "      balance += 100*demand                      # Actualiza el balance sumando el ingreso de ventas\n",
        "      inventory -= demand                         # Actualiza el inventario restando la demanda\n",
        "      print('{:.2f} sold {}'.format(env.now, demand))  # Imprime la cantidad vendida\n",
        "    else:\n",
        "      balance += 100*inventory                   # Actualiza el balance sumando el ingreso de ventas\n",
        "      inventory = 0                              # Vacía el inventario\n",
        "      print('{:.2f} sold {} (out of stock)'.format(env.now, inventory))  # Imprime que se agotó el stock\n",
        "    if inventory < order_cutoff and num_ordered == 0:\n",
        "      env.process(handle_order(env, order_target))   # Procesa el pedido si el inventario está por debajo del punto de reposición\n",
        "\n",
        "# Definición de la función handle_order que representa el procesamiento de un pedido\n",
        "def handle_order(env, order_target):\n",
        "  global inventory, balance, num_ordered\n",
        "\n",
        "  num_ordered = order_target - inventory   # Calcula la cantidad a pedir\n",
        "  print('{:.2f} placed order for {}'.format(env.now, num_ordered))  # Imprime el pedido realizado\n",
        "  balance -= 50*num_ordered                # Actualiza el balance restando el costo del pedido\n",
        "  yield env.timeout(2.0)                   # Espera hasta que llegue el pedido\n",
        "  inventory += num_ordered                  # Aumenta el inventario con el pedido recibido\n",
        "  num_ordered = 0                           # Reinicia el contador de pedidos\n",
        "  print('{:.2f} received order, {} in inventory'.format(env.now, inventory))  # Imprime el pedido recibido y el inventario actual\n",
        "\n",
        "# Definición de la función generate_interarrival para generar el tiempo entre llegadas de pedidos\n",
        "def generate_interarrival():\n",
        "  return np.random.exponential(1./5)\n",
        "\n",
        "# Definición de la función generate_demand para generar la demanda del producto\n",
        "def generate_demand():\n",
        "  return np.random.randint(1, 5)\n",
        "\n",
        "obs_time = []           # Lista para almacenar los tiempos de observación\n",
        "inventory_level = []    # Lista para almacenar los niveles de inventario\n",
        "\n",
        "# Definición de la función observe para realizar las observaciones del inventario\n",
        "def observe(env):\n",
        "  global inventory\n",
        "\n",
        "  while True:\n",
        "    obs_time.append(env.now)                # Agrega el tiempo de observación a la lista\n",
        "    inventory_level.append(inventory)       # Agrega el nivel de inventario a la lista\n",
        "    yield env.timeout(0.1)                   # Espera un tiempo para realizar la siguiente observación\n",
        "\n",
        "np.random.seed(0)      # Establece la semilla del generador de números aleatorios\n",
        "\n",
        "env = simpy.Environment()        # Crea el entorno de simulación\n",
        "env.process(warehouse_run(env, 25, 50))   # Agrega el proceso de simulación del almacén al entorno\n",
        "env.process(observe(env))        # Agrega el proceso de observación al entorno\n",
        "\n",
        "env.run(until = 5.0)    # Ejecuta la simulación hasta que el tiempo llegue a 5.0\n",
        "\n",
        "# Grafica los resultados\n",
        "plt.figure()\n",
        "plt.step(obs_time, inventory_level, where='post')\n",
        "plt.xlabel('Simulation time (days)')\n",
        "plt.ylabel('Inventory level')\n"
      ],
      "metadata": {
        "colab": {
          "base_uri": "https://localhost:8080/",
          "height": 1000
        },
        "id": "ljivIJ74uPKv",
        "outputId": "f6e82071-93aa-4fe8-a8a6-19a8564720d5"
      },
      "execution_count": 5,
      "outputs": [
        {
          "output_type": "stream",
          "name": "stdout",
          "text": [
            "Looking in indexes: https://pypi.org/simple, https://us-python.pkg.dev/colab-wheels/public/simple/\n",
            "Requirement already satisfied: simpy in /usr/local/lib/python3.10/dist-packages (4.0.1)\n",
            "0.16 sold 2\n",
            "0.53 sold 4\n",
            "0.69 sold 2\n",
            "0.88 sold 3\n",
            "1.00 sold 3\n",
            "1.01 sold 1\n",
            "1.11 sold 3\n",
            "1.44 sold 3\n",
            "1.61 sold 2\n",
            "1.97 sold 1\n",
            "1.99 sold 4\n",
            "1.99 placed order for 28\n",
            "2.08 sold 2\n",
            "2.38 sold 4\n",
            "2.79 sold 4\n",
            "3.11 sold 4\n",
            "3.26 sold 4\n",
            "3.28 sold 1\n",
            "3.46 sold 2\n",
            "3.99 received order, 29 in inventory\n",
            "4.04 sold 4\n",
            "4.06 sold 4\n",
            "4.06 placed order for 29\n",
            "4.12 sold 4\n",
            "4.39 sold 1\n",
            "4.56 sold 1\n",
            "4.63 sold 2\n",
            "4.82 sold 1\n",
            "4.92 sold 1\n"
          ]
        },
        {
          "output_type": "execute_result",
          "data": {
            "text/plain": [
              "Text(0, 0.5, 'Inventory level')"
            ]
          },
          "metadata": {},
          "execution_count": 5
        },
        {
          "output_type": "display_data",
          "data": {
            "text/plain": [
              "<Figure size 640x480 with 1 Axes>"
            ],
            "image/png": "[encoded data removed]"
          },
          "metadata": {}
        }
      ]
    }
  ]
}